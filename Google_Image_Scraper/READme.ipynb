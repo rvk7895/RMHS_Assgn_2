{
 "cells": [
  {
   "cell_type": "markdown",
   "metadata": {},
   "source": [
    "# Documentation\n",
    "## Using Google Image search to scrape newspaper article images\n",
    "\n",
    "####  I've used BeautifulSoup, Selenium and Pillow to scrape images from google image search. These images are stored locally (named using site of origin + 4 character hash).\n",
    "#### Overview:\n",
    "Using selenium we open google chrome and search for the keyword ('Indian farmers protest'). The fetch_image_urls() function then clicks on every individual image from the image search results page and fetches the true url of the clicked image. The url is stored in an array of strings, which is returned to search_and_download(). We then pass each url to persisit_image() along with the target folder. Here we get the actual image using io and Pillow libraries. A function is called to get the name of the site using the image url. This image is stored with the corresponding on the PC.\n",
    "\n",
    "#### Limitations & Challenges faced:\n",
    "* Running and testing takes time.\n",
    "* My code can only scrape upto 100 images because of how google loads its images. Although this issue can be solved using time.sleep() and some other tweaks. We could not do it due to time constraints.\n",
    "* All images for 'Indian Farmers protest' were from news sites (and wikipedia), but this is not true in general.\n",
    "* Image url is not the same as site name, although there is a correlation. Thus a key is needed.\n",
    "* Because the code requires a chromedriver, there can be portability issues for those who are not very comfortable with basic coding.\n",
    "* Repeated usage of the code increases time taken (maybe some of the sites think you are a bot)\n",
    "\n",
    "#### Pros:\n",
    "* Much faster than manually scraping\n",
    "* We could add a few lines of code to get a lot of peripheral data about the image- its metadata, context of publishing etc.\n",
    "* Maybe a good way to find all news articles about 'Indian farmers protest' since plain google search only yields some 15-20 news links."
   ]
  },
  {
   "cell_type": "markdown",
   "metadata": {},
   "source": [
    "## Running the code\n",
    "\n",
    "### Install necessary requirements using pip\n",
    "`pip3 install -r requirements.txt`\n",
    "\n",
    "The code is run on a Jupyter Notebook, so make sure you have that running.\n",
    "Chromedriver for google-chrome version 88 is being used. If your google-chrome runs a newer version, download and replace the given chrome driver with the one corresponding to your version of chrome.\n",
    "You can download chrome drivers here- https://chromedriver.chromium.org/downloads"
   ]
  },
  {
   "cell_type": "code",
   "execution_count": null,
   "metadata": {},
   "outputs": [],
   "source": []
  }
 ],
 "metadata": {
  "kernelspec": {
   "display_name": "Python 3",
   "language": "python",
   "name": "python3"
  },
  "language_info": {
   "codemirror_mode": {
    "name": "ipython",
    "version": 3
   },
   "file_extension": ".py",
   "mimetype": "text/x-python",
   "name": "python",
   "nbconvert_exporter": "python",
   "pygments_lexer": "ipython3",
   "version": "3.8.5"
  }
 },
 "nbformat": 4,
 "nbformat_minor": 4
}
